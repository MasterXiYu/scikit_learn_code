{
 "cells": [
  {
   "cell_type": "code",
   "execution_count": 1,
   "metadata": {},
   "outputs": [
    {
     "data": {
      "text/plain": [
       "array([[3.e+00, 2.e+03],\n",
       "       [2.e+00, 3.e+03],\n",
       "       [4.e+00, 5.e+03],\n",
       "       [5.e+00, 8.e+03],\n",
       "       [1.e+00, 2.e+03]])"
      ]
     },
     "execution_count": 1,
     "metadata": {},
     "output_type": "execute_result"
    }
   ],
   "source": [
    "import numpy as np\n",
    "%matplotlib inline\n",
    "\n",
    "A = np.array([[3,2000],[2,3000],[4,5000],[5,8000],[1,2000]],dtype = 'float')\n",
    "\n",
    "A"
   ]
  },
  {
   "cell_type": "code",
   "execution_count": 2,
   "metadata": {},
   "outputs": [
    {
     "data": {
      "text/plain": [
       "array([[ 0.        , -0.33333333],\n",
       "       [-0.25      , -0.16666667],\n",
       "       [ 0.25      ,  0.16666667],\n",
       "       [ 0.5       ,  0.66666667],\n",
       "       [-0.5       , -0.33333333]])"
      ]
     },
     "execution_count": 2,
     "metadata": {},
     "output_type": "execute_result"
    }
   ],
   "source": [
    "mean =np.mean(A,axis = 0)\n",
    "norm = A - mean\n",
    "scope = np.max(norm,axis = 0)- np.min(norm,axis = 0)\n",
    "norm = norm/scope\n",
    "norm"
   ]
  },
  {
   "cell_type": "code",
   "execution_count": 3,
   "metadata": {},
   "outputs": [
    {
     "data": {
      "text/plain": [
       "array([[-0.67710949, -0.73588229],\n",
       "       [-0.73588229,  0.67710949]])"
      ]
     },
     "execution_count": 3,
     "metadata": {},
     "output_type": "execute_result"
    }
   ],
   "source": [
    "U,S,V = np.linalg.svd(np.dot(norm.T,norm))\n",
    "U"
   ]
  },
  {
   "cell_type": "code",
   "execution_count": 4,
   "metadata": {},
   "outputs": [
    {
     "data": {
      "text/plain": [
       "array([[-0.67710949],\n",
       "       [-0.73588229]])"
      ]
     },
     "execution_count": 4,
     "metadata": {},
     "output_type": "execute_result"
    }
   ],
   "source": [
    "U_reduce = U[:,0].reshape(2,1)\n",
    "U_reduce\n"
   ]
  },
  {
   "cell_type": "code",
   "execution_count": 5,
   "metadata": {},
   "outputs": [
    {
     "data": {
      "text/plain": [
       "array([[ 0.2452941 ],\n",
       "       [ 0.29192442],\n",
       "       [-0.29192442],\n",
       "       [-0.82914294],\n",
       "       [ 0.58384884]])"
      ]
     },
     "execution_count": 5,
     "metadata": {},
     "output_type": "execute_result"
    }
   ],
   "source": [
    "\n",
    "R = np.dot(norm,U_reduce)\n",
    "R"
   ]
  },
  {
   "cell_type": "code",
   "execution_count": 6,
   "metadata": {},
   "outputs": [
    {
     "data": {
      "text/plain": [
       "array([[-0.16609096, -0.18050758],\n",
       "       [-0.19766479, -0.21482201],\n",
       "       [ 0.19766479,  0.21482201],\n",
       "       [ 0.56142055,  0.6101516 ],\n",
       "       [-0.39532959, -0.42964402]])"
      ]
     },
     "execution_count": 6,
     "metadata": {},
     "output_type": "execute_result"
    }
   ],
   "source": [
    "Z = np.dot(R,U_reduce.T)\n",
    "Z"
   ]
  },
  {
   "cell_type": "code",
   "execution_count": 7,
   "metadata": {},
   "outputs": [
    {
     "data": {
      "text/plain": [
       "array([[2.33563616e+00, 2.91695452e+03],\n",
       "       [2.20934082e+00, 2.71106794e+03],\n",
       "       [3.79065918e+00, 5.28893206e+03],\n",
       "       [5.24568220e+00, 7.66090960e+03],\n",
       "       [1.41868164e+00, 1.42213588e+03]])"
      ]
     },
     "execution_count": 7,
     "metadata": {},
     "output_type": "execute_result"
    }
   ],
   "source": [
    "np.multiply(Z,scope)+mean"
   ]
  },
  {
   "cell_type": "code",
   "execution_count": 8,
   "metadata": {},
   "outputs": [
    {
     "data": {
      "text/plain": [
       "array([[-0.2452941 ],\n",
       "       [-0.29192442],\n",
       "       [ 0.29192442],\n",
       "       [ 0.82914294],\n",
       "       [-0.58384884]])"
      ]
     },
     "execution_count": 8,
     "metadata": {},
     "output_type": "execute_result"
    }
   ],
   "source": [
    "from sklearn.decomposition import PCA\n",
    "from sklearn.pipeline import Pipeline\n",
    "from sklearn.preprocessing import MinMaxScaler\n",
    "\n",
    "def std_PCA(**argv):\n",
    "    scaler = MinMaxScaler()\n",
    "    pca = PCA(**argv)\n",
    "    pipeline = Pipeline([('scalar',scaler),('pca',pca)])\n",
    "    return pipeline\n",
    "\n",
    "pca = std_PCA(n_components=1)\n",
    "R2 = pca.fit_transform(A)\n",
    "R2"
   ]
  },
  {
   "cell_type": "code",
   "execution_count": 9,
   "metadata": {},
   "outputs": [
    {
     "data": {
      "text/plain": [
       "array([[2.33563616e+00, 2.91695452e+03],\n",
       "       [2.20934082e+00, 2.71106794e+03],\n",
       "       [3.79065918e+00, 5.28893206e+03],\n",
       "       [5.24568220e+00, 7.66090960e+03],\n",
       "       [1.41868164e+00, 1.42213588e+03]])"
      ]
     },
     "execution_count": 9,
     "metadata": {},
     "output_type": "execute_result"
    }
   ],
   "source": [
    "pca.inverse_transform(R2)"
   ]
  },
  {
   "cell_type": "code",
   "execution_count": 10,
   "metadata": {},
   "outputs": [
    {
     "name": "stderr",
     "output_type": "stream",
     "text": [
      "2020-12-01 13:06:10,056 Start to load dataset\n",
      "2020-12-01 13:06:10,092 Done with load dataset\n"
     ]
    }
   ],
   "source": [
    "import time \n",
    "import logging\n",
    "\n",
    "from sklearn.datasets import fetch_olivetti_faces\n",
    "\n",
    "logging.basicConfig(level=logging.INFO,format='%(asctime)s %(message)s')\n",
    "\n",
    "data_home = '/'\n",
    "logging.info('Start to load dataset')\n",
    "faces = fetch_olivetti_faces(data_home = data_home)\n",
    "logging.info('Done with load dataset')"
   ]
  },
  {
   "cell_type": "code",
   "execution_count": 11,
   "metadata": {},
   "outputs": [
    {
     "name": "stdout",
     "output_type": "stream",
     "text": [
      "Sample count:400\n",
      "Target count:40\n",
      "Image size:64x64\n",
      "Dataset shape:(400, 4096)\n",
      "\n"
     ]
    }
   ],
   "source": [
    "X = faces.data\n",
    "Y = faces.target\n",
    "targets = np.unique(faces.target)\n",
    "\n",
    "target_names = np.array(['c%d' % t for t in targets])\n",
    "n_targets = target_names.shape[0]\n",
    "n_samples,h,w = faces.images.shape\n",
    "print('Sample count:{}\\nTarget count:{}'.format(n_samples,n_targets))\n",
    "print('Image size:{}x{}\\nDataset shape:{}\\n'.format(w,h,X.shape))\n"
   ]
  },
  {
   "cell_type": "code",
   "execution_count": 12,
   "metadata": {},
   "outputs": [
    {
     "name": "stdout",
     "output_type": "stream",
     "text": [
      "Using matplotlib backend: Qt5Agg\n"
     ]
    }
   ],
   "source": [
    "%matplotlib\n",
    "from matplotlib import pyplot as plt\n",
    "\n",
    "def plot_gallery(images,titles,h,w,n_row = 2,n_col = 5):\n",
    "    plt.figure(figsize = (2*n_col,2.2*n_row),dpi = 144)\n",
    "    plt.subplots_adjust(bottom = 0,left = .01,right = .99,top=.90,hspace = 0.01)\n",
    "    for i in range(n_row*n_col):\n",
    "        plt.subplot(n_row,n_col,i+1)\n",
    "        plt.imshow(images[i].reshape((h,w)),cmap = plt.cm.gray)\n",
    "        plt.title(titles[i])\n",
    "        plt.axis('off')\n",
    "        #plt.show()"
   ]
  },
  {
   "cell_type": "code",
   "execution_count": 13,
   "metadata": {},
   "outputs": [],
   "source": [
    "\n",
    "n_row = 2\n",
    "n_col = 6\n",
    "sample_images = None\n",
    "sample_titles = []\n",
    "\n",
    "for i in range(n_targets):\n",
    "    people_images = X[Y==i]\n",
    "    people_sample_index = np.random.randint(0,people_images.shape[0],1)\n",
    "    people_sample_image = people_images[people_sample_index,:]\n",
    "    if sample_images is not None:\n",
    "        sample_images =np.concatenate((sample_images,people_sample_image),axis =0 )\n",
    "    else:\n",
    "        sample_images = people_sample_image\n",
    "    sample_titles.append(target_names[i])\n",
    "    \n",
    "plot_gallery(sample_images,sample_titles,h,w,n_row,n_col)\n",
    "        \n",
    "    "
   ]
  },
  {
   "cell_type": "code",
   "execution_count": 14,
   "metadata": {},
   "outputs": [],
   "source": [
    "from sklearn.model_selection import train_test_split\n",
    "\n",
    "X_train,X_test,Y_train,Y_test = train_test_split(X,Y,test_size=0.2,random_state = 4)"
   ]
  },
  {
   "cell_type": "code",
   "execution_count": 15,
   "metadata": {},
   "outputs": [
    {
     "name": "stdout",
     "output_type": "stream",
     "text": [
      "Fitting train databases ...\n",
      "Done in 0.70s\n"
     ]
    }
   ],
   "source": [
    "from sklearn.svm import SVC\n",
    "\n",
    "start = time.perf_counter()\n",
    "print('Fitting train databases ...')\n",
    "clf = SVC(class_weight = 'balanced')\n",
    "clf.fit(X_train,Y_train)\n",
    "print('Done in {0:.2f}s'.format(time.perf_counter()-start))\n"
   ]
  },
  {
   "cell_type": "code",
   "execution_count": 16,
   "metadata": {},
   "outputs": [
    {
     "name": "stdout",
     "output_type": "stream",
     "text": [
      "predicing test dataset ...\n",
      "Done in 0.08s\n"
     ]
    },
    {
     "name": "stderr",
     "output_type": "stream",
     "text": [
      "D:\\ProgramData\\Anaconda3\\lib\\site-packages\\ipykernel_launcher.py:1: DeprecationWarning: time.clock has been deprecated in Python 3.3 and will be removed from Python 3.8: use time.perf_counter or time.process_time instead\n",
      "  \"\"\"Entry point for launching an IPython kernel.\n"
     ]
    }
   ],
   "source": [
    "start = time.clock()\n",
    "print('predicing test dataset ...')\n",
    "Y_pred = clf.predict(X_test)\n",
    "print('Done in {0:.2f}s'.format(time.perf_counter()-start))"
   ]
  },
  {
   "cell_type": "code",
   "execution_count": 17,
   "metadata": {},
   "outputs": [
    {
     "name": "stdout",
     "output_type": "stream",
     "text": [
      "[[0 0 0 0 0 0 0 0 0 0 0 1 0 0 0 0 0 0 0 0 0 0 0 0 0 0 0 0 0 0 0 0 0 0 0 0\n",
      "  0 0 0 0]\n",
      " [0 0 0 0 0 0 0 0 0 0 0 1 0 0 0 0 0 0 0 0 0 0 0 0 0 0 0 0 1 0 0 0 0 0 1 0\n",
      "  0 0 0 0]\n",
      " [0 0 0 0 0 0 0 0 0 0 0 1 0 0 0 0 0 0 0 0 0 0 0 0 0 0 0 0 1 0 0 0 0 0 0 0\n",
      "  0 0 0 0]\n",
      " [0 0 0 0 0 0 0 0 0 0 0 1 0 0 0 0 0 0 0 0 0 0 0 0 0 0 0 0 0 0 0 0 0 0 0 0\n",
      "  0 0 0 0]\n",
      " [0 0 0 0 0 0 0 0 0 0 0 0 0 0 0 0 0 0 0 0 0 0 0 0 0 0 0 0 0 0 0 0 0 0 1 0\n",
      "  0 0 0 0]\n",
      " [0 0 0 0 0 0 0 0 0 0 0 1 0 0 0 0 0 0 0 0 0 0 0 0 0 0 0 0 0 0 0 0 0 0 0 0\n",
      "  0 0 0 0]\n",
      " [0 0 0 0 0 0 0 0 0 0 0 4 0 0 0 0 0 0 0 0 0 0 0 0 0 0 0 0 0 0 0 0 0 0 0 0\n",
      "  0 0 0 0]\n",
      " [0 0 0 0 0 0 0 0 0 0 0 2 0 0 0 0 0 0 0 0 0 0 0 0 0 0 0 0 0 0 0 0 0 0 0 0\n",
      "  0 0 0 0]\n",
      " [0 0 0 0 0 0 0 0 0 0 0 4 0 0 0 0 0 0 0 0 0 0 0 0 0 0 0 0 0 0 0 0 0 0 0 0\n",
      "  0 0 0 0]\n",
      " [0 0 0 0 0 0 0 0 0 0 0 2 0 0 0 0 0 0 0 0 0 0 0 0 0 0 0 0 0 0 0 0 0 0 0 0\n",
      "  0 0 0 0]\n",
      " [0 0 0 0 0 0 0 0 0 0 0 1 0 0 0 0 0 0 0 0 0 0 0 0 0 0 0 0 0 0 0 0 0 0 0 0\n",
      "  0 0 0 0]\n",
      " [0 0 0 0 0 0 0 0 0 0 0 0 0 0 0 0 0 0 0 0 0 0 0 0 0 0 0 0 0 0 0 0 0 0 0 0\n",
      "  0 0 0 0]\n",
      " [0 0 0 0 0 0 0 0 0 0 0 3 0 0 0 0 0 0 0 0 0 0 0 0 0 0 0 0 0 0 0 0 0 0 1 0\n",
      "  0 0 0 0]\n",
      " [0 0 0 0 0 0 0 0 0 0 0 4 0 0 0 0 0 0 0 0 0 0 0 0 0 0 0 0 0 0 0 0 0 0 0 0\n",
      "  0 0 0 0]\n",
      " [0 0 0 0 0 0 0 0 0 0 0 0 0 0 0 0 0 0 0 0 0 0 0 0 0 0 0 0 0 0 0 0 0 0 1 0\n",
      "  0 0 0 0]\n",
      " [0 0 0 0 0 0 0 0 0 0 0 1 0 0 0 0 0 0 0 0 0 0 0 0 0 0 0 0 0 0 0 0 0 0 0 0\n",
      "  0 0 0 0]\n",
      " [0 0 0 0 0 0 0 0 0 0 0 1 0 0 0 0 0 0 0 0 0 0 0 0 0 0 0 0 0 0 0 0 0 0 2 0\n",
      "  0 0 0 0]\n",
      " [0 0 0 0 0 0 0 0 0 0 0 2 0 0 0 0 0 0 0 0 0 0 0 0 0 0 0 0 0 0 0 0 0 0 0 0\n",
      "  0 0 0 0]\n",
      " [0 0 0 0 0 0 0 0 0 0 0 2 0 0 0 0 0 0 0 0 0 0 0 0 0 0 0 0 0 0 0 0 0 0 0 0\n",
      "  0 0 0 0]\n",
      " [0 0 0 0 0 0 0 0 0 0 0 0 0 0 0 0 0 0 0 0 0 0 0 0 0 0 0 0 1 0 0 0 0 0 1 0\n",
      "  0 0 0 0]\n",
      " [0 0 0 0 0 0 0 0 0 0 0 1 0 0 0 0 0 0 0 0 0 0 0 0 0 0 0 0 0 0 0 0 0 0 0 0\n",
      "  0 0 0 0]\n",
      " [0 0 0 0 0 0 0 0 0 0 0 0 0 0 0 0 0 0 0 0 0 0 0 0 0 0 0 0 2 0 0 0 0 0 0 0\n",
      "  0 0 0 0]\n",
      " [0 0 0 0 0 0 0 0 0 0 0 3 0 0 0 0 0 0 0 0 0 0 0 0 0 0 0 0 0 0 0 0 0 0 0 0\n",
      "  0 0 0 0]\n",
      " [0 0 0 0 0 0 0 0 0 0 0 0 0 0 0 0 0 0 0 0 0 0 0 0 0 0 0 0 2 0 0 0 0 0 0 0\n",
      "  0 0 0 0]\n",
      " [0 0 0 0 0 0 0 0 0 0 0 1 0 0 0 0 0 0 0 0 0 0 0 0 0 0 0 0 0 0 0 0 0 0 2 0\n",
      "  0 0 0 0]\n",
      " [0 0 0 0 0 0 0 0 0 0 0 3 0 0 0 0 0 0 0 0 0 0 0 0 0 0 0 0 0 0 0 0 0 0 0 0\n",
      "  0 0 0 0]\n",
      " [0 0 0 0 0 0 0 0 0 0 0 2 0 0 0 0 0 0 0 0 0 0 0 0 0 0 0 0 0 0 0 0 0 0 0 0\n",
      "  0 0 0 0]\n",
      " [0 0 0 0 0 0 0 0 0 0 0 2 0 0 0 0 0 0 0 0 0 0 0 0 0 0 0 0 0 0 0 0 0 0 0 0\n",
      "  0 0 0 0]\n",
      " [0 0 0 0 0 0 0 0 0 0 0 0 0 0 0 0 0 0 0 0 0 0 0 0 0 0 0 0 0 0 0 0 0 0 0 0\n",
      "  0 0 0 0]\n",
      " [0 0 0 0 0 0 0 0 0 0 0 0 0 0 0 0 0 0 0 0 0 0 0 0 0 0 0 0 0 0 0 0 0 0 2 0\n",
      "  0 0 0 0]\n",
      " [0 0 0 0 0 0 0 0 0 0 0 0 0 0 0 0 0 0 0 0 0 0 0 0 0 0 0 0 0 0 0 0 0 0 2 0\n",
      "  0 0 0 0]\n",
      " [0 0 0 0 0 0 0 0 0 0 0 3 0 0 0 0 0 0 0 0 0 0 0 0 0 0 0 0 0 0 0 0 0 0 0 0\n",
      "  0 0 0 0]\n",
      " [0 0 0 0 0 0 0 0 0 0 0 0 0 0 0 0 0 0 0 0 0 0 0 0 0 0 0 0 2 0 0 0 0 0 0 0\n",
      "  0 0 0 0]\n",
      " [0 0 0 0 0 0 0 0 0 0 0 0 0 0 0 0 0 0 0 0 0 0 0 0 0 0 0 0 2 0 0 0 0 0 0 0\n",
      "  0 0 0 0]\n",
      " [0 0 0 0 0 0 0 0 0 0 0 0 0 0 0 0 0 0 0 0 0 0 0 0 0 0 0 0 0 0 0 0 0 0 0 0\n",
      "  0 0 0 0]\n",
      " [0 0 0 0 0 0 0 0 0 0 0 1 0 0 0 0 0 0 0 0 0 0 0 0 0 0 0 0 0 0 0 0 0 0 1 0\n",
      "  0 0 0 0]\n",
      " [0 0 0 0 0 0 0 0 0 0 0 1 0 0 0 0 0 0 0 0 0 0 0 0 0 0 0 0 2 0 0 0 0 0 0 0\n",
      "  0 0 0 0]\n",
      " [0 0 0 0 0 0 0 0 0 0 0 1 0 0 0 0 0 0 0 0 0 0 0 0 0 0 0 0 0 0 0 0 0 0 0 0\n",
      "  0 0 0 0]\n",
      " [0 0 0 0 0 0 0 0 0 0 0 0 0 0 0 0 0 0 0 0 0 0 0 0 0 0 0 0 2 0 0 0 0 0 0 0\n",
      "  0 0 0 0]\n",
      " [0 0 0 0 0 0 0 0 0 0 0 2 0 0 0 0 0 0 0 0 0 0 0 0 0 0 0 0 0 0 0 0 0 0 0 0\n",
      "  0 0 0 0]]\n"
     ]
    }
   ],
   "source": [
    "from sklearn.metrics import confusion_matrix\n",
    "\n",
    "cm = confusion_matrix(Y_test,Y_pred,labels = range(n_targets))\n",
    "np.set_printoptions(threshold=np.nan)\n",
    "\n",
    "print(cm)"
   ]
  },
  {
   "cell_type": "code",
   "execution_count": 18,
   "metadata": {},
   "outputs": [
    {
     "name": "stdout",
     "output_type": "stream",
     "text": [
      "             precision    recall  f1-score   support\n",
      "\n",
      "         c0       0.00      0.00      0.00         1\n",
      "         c1       0.00      0.00      0.00         3\n",
      "         c2       0.00      0.00      0.00         2\n",
      "         c3       0.00      0.00      0.00         1\n",
      "         c4       0.00      0.00      0.00         1\n",
      "         c5       0.00      0.00      0.00         1\n",
      "         c6       0.00      0.00      0.00         4\n",
      "         c7       0.00      0.00      0.00         2\n",
      "         c8       0.00      0.00      0.00         4\n",
      "         c9       0.00      0.00      0.00         2\n",
      "        c10       0.00      0.00      0.00         1\n",
      "        c11       0.00      0.00      0.00         0\n",
      "        c12       0.00      0.00      0.00         4\n",
      "        c13       0.00      0.00      0.00         4\n",
      "        c14       0.00      0.00      0.00         1\n",
      "        c15       0.00      0.00      0.00         1\n",
      "        c16       0.00      0.00      0.00         3\n",
      "        c17       0.00      0.00      0.00         2\n",
      "        c18       0.00      0.00      0.00         2\n",
      "        c19       0.00      0.00      0.00         2\n",
      "        c20       0.00      0.00      0.00         1\n",
      "        c21       0.00      0.00      0.00         2\n",
      "        c22       0.00      0.00      0.00         3\n",
      "        c23       0.00      0.00      0.00         2\n",
      "        c24       0.00      0.00      0.00         3\n",
      "        c25       0.00      0.00      0.00         3\n",
      "        c26       0.00      0.00      0.00         2\n",
      "        c27       0.00      0.00      0.00         2\n",
      "        c28       0.00      0.00      0.00         0\n",
      "        c29       0.00      0.00      0.00         2\n",
      "        c30       0.00      0.00      0.00         2\n",
      "        c31       0.00      0.00      0.00         3\n",
      "        c32       0.00      0.00      0.00         2\n",
      "        c33       0.00      0.00      0.00         2\n",
      "        c34       0.00      0.00      0.00         0\n",
      "        c35       0.00      0.00      0.00         2\n",
      "        c36       0.00      0.00      0.00         3\n",
      "        c37       0.00      0.00      0.00         1\n",
      "        c38       0.00      0.00      0.00         2\n",
      "        c39       0.00      0.00      0.00         2\n",
      "\n",
      "avg / total       0.00      0.00      0.00        80\n",
      "\n"
     ]
    },
    {
     "name": "stderr",
     "output_type": "stream",
     "text": [
      "D:\\ProgramData\\Anaconda3\\lib\\site-packages\\sklearn\\metrics\\classification.py:1135: UndefinedMetricWarning: Precision and F-score are ill-defined and being set to 0.0 in labels with no predicted samples.\n",
      "  'precision', 'predicted', average, warn_for)\n",
      "D:\\ProgramData\\Anaconda3\\lib\\site-packages\\sklearn\\metrics\\classification.py:1137: UndefinedMetricWarning: Recall and F-score are ill-defined and being set to 0.0 in labels with no true samples.\n",
      "  'recall', 'true', average, warn_for)\n"
     ]
    }
   ],
   "source": [
    "from sklearn.metrics import classification_report\n",
    "print(classification_report(Y_test,Y_pred,target_names = target_names))"
   ]
  },
  {
   "cell_type": "code",
   "execution_count": 19,
   "metadata": {},
   "outputs": [
    {
     "name": "stdout",
     "output_type": "stream",
     "text": [
      "Exploring explained variance radio for dataset ...\n"
     ]
    },
    {
     "name": "stderr",
     "output_type": "stream",
     "text": [
      "D:\\ProgramData\\Anaconda3\\lib\\site-packages\\ipykernel_launcher.py:7: DeprecationWarning: time.clock has been deprecated in Python 3.3 and will be removed from Python 3.8: use time.perf_counter or time.process_time instead\n",
      "  import sys\n"
     ]
    },
    {
     "name": "stdout",
     "output_type": "stream",
     "text": [
      "done in 1.41 s\n"
     ]
    },
    {
     "name": "stderr",
     "output_type": "stream",
     "text": [
      "D:\\ProgramData\\Anaconda3\\lib\\site-packages\\ipykernel_launcher.py:12: DeprecationWarning: time.clock has been deprecated in Python 3.3 and will be removed from Python 3.8: use time.perf_counter or time.process_time instead\n",
      "  if sys.path[0] == '':\n"
     ]
    }
   ],
   "source": [
    "from sklearn.decomposition import PCA\n",
    "\n",
    "print('Exploring explained variance radio for dataset ...')\n",
    "\n",
    "candidate_components = range(10,300,30)\n",
    "explained_ratios = []\n",
    "start = time.clock()\n",
    "for c in candidate_components:\n",
    "    pca = PCA(n_components=c)\n",
    "    X_pca = pca.fit_transform(X)\n",
    "    explained_ratios.append(np.sum(pca.explained_variance_ratio_))\n",
    "print('done in {0:.2f} s'.format(time.clock()-start))"
   ]
  },
  {
   "cell_type": "code",
   "execution_count": 20,
   "metadata": {},
   "outputs": [
    {
     "data": {
      "text/plain": [
       "([<matplotlib.axis.XTick at 0x2b1f6feab70>,\n",
       "  <matplotlib.axis.XTick at 0x2b1f6fea4a8>,\n",
       "  <matplotlib.axis.XTick at 0x2b1f6fea390>,\n",
       "  <matplotlib.axis.XTick at 0x2b1f74c97f0>,\n",
       "  <matplotlib.axis.XTick at 0x2b1f74c9d30>,\n",
       "  <matplotlib.axis.XTick at 0x2b1f74d22b0>,\n",
       "  <matplotlib.axis.XTick at 0x2b1f74d27f0>,\n",
       "  <matplotlib.axis.XTick at 0x2b1f74d2d30>,\n",
       "  <matplotlib.axis.XTick at 0x2b1f74db2b0>,\n",
       "  <matplotlib.axis.XTick at 0x2b1f74d2668>,\n",
       "  <matplotlib.axis.XTick at 0x2b1f74bb978>,\n",
       "  <matplotlib.axis.XTick at 0x2b1f74db6a0>,\n",
       "  <matplotlib.axis.XTick at 0x2b1f74dbc50>,\n",
       "  <matplotlib.axis.XTick at 0x2b1f74e41d0>,\n",
       "  <matplotlib.axis.XTick at 0x2b1f74e4710>],\n",
       " <a list of 15 Text xticklabel objects>)"
      ]
     },
     "execution_count": 20,
     "metadata": {},
     "output_type": "execute_result"
    }
   ],
   "source": [
    "from matplotlib import pyplot as plt\n",
    "\n",
    "plt.figure(figsize=(10,6),dpi = 144)\n",
    "plt.grid()\n",
    "plt.plot(candidate_components,explained_ratios)\n",
    "plt.xlabel('Number of PCA Components')\n",
    "plt.ylabel('Explained Variance Ratio')\n",
    "plt.title('Explained variance ratio for PCA')\n",
    "plt.yticks(np.arange(0.5,1.05,0.05))\n",
    "plt.xticks(np.arange(0,300,20))"
   ]
  },
  {
   "cell_type": "code",
   "execution_count": 36,
   "metadata": {},
   "outputs": [
    {
     "name": "stdout",
     "output_type": "stream",
     "text": [
      "Fitting and projecting on PCA(n_components=140) ...\n",
      "Done in 0.14s\n",
      "Fitting and projecting on PCA(n_components=75) ...\n"
     ]
    },
    {
     "name": "stderr",
     "output_type": "stream",
     "text": [
      "D:\\ProgramData\\Anaconda3\\lib\\site-packages\\ipykernel_launcher.py:16: DeprecationWarning: time.clock has been deprecated in Python 3.3 and will be removed from Python 3.8: use time.perf_counter or time.process_time instead\n",
      "  app.launch_new_instance()\n",
      "D:\\ProgramData\\Anaconda3\\lib\\site-packages\\ipykernel_launcher.py:24: DeprecationWarning: time.clock has been deprecated in Python 3.3 and will be removed from Python 3.8: use time.perf_counter or time.process_time instead\n"
     ]
    },
    {
     "name": "stdout",
     "output_type": "stream",
     "text": [
      "Done in 0.08s\n",
      "Fitting and projecting on PCA(n_components=37) ...\n",
      "Done in 0.11s\n",
      "Fitting and projecting on PCA(n_components=19) ...\n",
      "Done in 0.06s\n",
      "Fitting and projecting on PCA(n_components=8) ...\n",
      "Done in 0.07s\n",
      "Plotting sample image with different number of PCA conpoments ...\n"
     ]
    }
   ],
   "source": [
    "\n",
    "def title_prefix(prefix, title):\n",
    "    return \"{}: {}\".format(prefix, title)\n",
    "\n",
    "n_row = 1\n",
    "n_col = 5\n",
    "\n",
    "sample_images = sample_images[0:5]\n",
    "sample_titles = sample_titles[0:5]\n",
    "\n",
    "plotting_images = sample_images\n",
    "plotting_titles = [title_prefix('orig', t) for t in sample_titles]\n",
    "candidate_components = [140, 75, 37, 19, 8]\n",
    "for c in candidate_components:\n",
    "    print(\"Fitting and projecting on PCA(n_components={}) ...\".format(c))\n",
    "    start = time.clock()\n",
    "    pca = PCA(n_components=c)\n",
    "    pca.fit(X)\n",
    "    X_sample_pca = pca.transform(sample_images)\n",
    "    X_sample_inv = pca.inverse_transform(X_sample_pca)\n",
    "    plotting_images = np.concatenate((plotting_images, X_sample_inv), axis=0)\n",
    "    sample_title_pca = [title_prefix('{}'.format(c), t) for t in sample_titles]\n",
    "    plotting_titles = np.concatenate((plotting_titles, sample_title_pca), axis=0)\n",
    "    print(\"Done in {0:.2f}s\".format(time.clock() - start))\n",
    "\n",
    "print(\"Plotting sample image with different number of PCA conpoments ...\")\n",
    "plot_gallery(plotting_images, plotting_titles, h, w,\n",
    "    n_row * (len(candidate_components) + 1), n_col)"
   ]
  },
  {
   "cell_type": "code",
   "execution_count": 70,
   "metadata": {},
   "outputs": [
    {
     "name": "stdout",
     "output_type": "stream",
     "text": [
      "fitting PCA by using training data ...\n",
      "Done in 0.12s\n"
     ]
    },
    {
     "name": "stderr",
     "output_type": "stream",
     "text": [
      "D:\\ProgramData\\Anaconda3\\lib\\site-packages\\ipykernel_launcher.py:3: DeprecationWarning: time.clock has been deprecated in Python 3.3 and will be removed from Python 3.8: use time.perf_counter or time.process_time instead\n",
      "  This is separate from the ipykernel package so we can avoid doing imports until\n",
      "D:\\ProgramData\\Anaconda3\\lib\\site-packages\\ipykernel_launcher.py:5: DeprecationWarning: time.clock has been deprecated in Python 3.3 and will be removed from Python 3.8: use time.perf_counter or time.process_time instead\n",
      "  \"\"\"\n"
     ]
    }
   ],
   "source": [
    "n_components = 140\n",
    "print('fitting PCA by using training data ...')\n",
    "start = time.clock()\n",
    "pca = PCA(n_components=n_components,svd_solver='randomized',whiten = True).fit(X_train)\n",
    "print(\"Done in {0:.2f}s\".format(time.clock() - start))"
   ]
  },
  {
   "cell_type": "code",
   "execution_count": 71,
   "metadata": {},
   "outputs": [
    {
     "name": "stdout",
     "output_type": "stream",
     "text": [
      "Searching the best parameters for SVC ...\n",
      "Fitting 3 folds for each of 25 candidates, totalling 75 fits\n",
      "Best parameters found by grid search:\n",
      "{'C': 10, 'gamma': 0.001}\n"
     ]
    },
    {
     "name": "stderr",
     "output_type": "stream",
     "text": [
      "[Parallel(n_jobs=4)]: Done  75 out of  75 | elapsed:    1.5s finished\n"
     ]
    }
   ],
   "source": [
    "from sklearn.model_selection import GridSearchCV\n",
    "\n",
    "print(\"Searching the best parameters for SVC ...\")\n",
    "param_grid = {'C': [1, 5, 10, 50, 100],\n",
    "              'gamma': [0.0001, 0.0005, 0.001, 0.005, 0.01]}\n",
    "clf = GridSearchCV(SVC(kernel='rbf', class_weight='balanced'), param_grid, verbose=2, n_jobs=4)\n",
    "clf = clf.fit(X_train_pca, Y_train)\n",
    "print(\"Best parameters found by grid search:\")\n",
    "print(clf.best_params_)\n"
   ]
  },
  {
   "cell_type": "code",
   "execution_count": 72,
   "metadata": {},
   "outputs": [
    {
     "name": "stdout",
     "output_type": "stream",
     "text": [
      "Predict test dataset ...\n",
      "Done in 0.00.\n",
      "\n",
      "confusion matrix:\n",
      "[[1 0 0 0 0 0 0 0 0 0 0 0 0 0 0 0 0 0 0 0 0 0 0 0 0 0 0 0 0 0 0 0 0 0 0 0\n",
      "  0 0 0 0]\n",
      " [1 2 0 0 0 0 0 0 0 0 0 0 0 0 0 0 0 0 0 0 0 0 0 0 0 0 0 0 0 0 0 0 0 0 0 0\n",
      "  0 0 0 0]\n",
      " [0 0 1 0 0 0 0 0 0 0 0 0 0 0 0 0 0 0 0 0 0 0 0 0 0 1 0 0 0 0 0 0 0 0 0 0\n",
      "  0 0 0 0]\n",
      " [0 0 0 1 0 0 0 0 0 0 0 0 0 0 0 0 0 0 0 0 0 0 0 0 0 0 0 0 0 0 0 0 0 0 0 0\n",
      "  0 0 0 0]\n",
      " [0 0 0 0 1 0 0 0 0 0 0 0 0 0 0 0 0 0 0 0 0 0 0 0 0 0 0 0 0 0 0 0 0 0 0 0\n",
      "  0 0 0 0]\n",
      " [0 0 0 0 0 1 0 0 0 0 0 0 0 0 0 0 0 0 0 0 0 0 0 0 0 0 0 0 0 0 0 0 0 0 0 0\n",
      "  0 0 0 0]\n",
      " [0 0 0 0 0 0 3 0 0 0 0 0 0 0 0 0 1 0 0 0 0 0 0 0 0 0 0 0 0 0 0 0 0 0 0 0\n",
      "  0 0 0 0]\n",
      " [0 0 0 0 0 0 0 2 0 0 0 0 0 0 0 0 0 0 0 0 0 0 0 0 0 0 0 0 0 0 0 0 0 0 0 0\n",
      "  0 0 0 0]\n",
      " [0 0 0 0 0 0 0 0 4 0 0 0 0 0 0 0 0 0 0 0 0 0 0 0 0 0 0 0 0 0 0 0 0 0 0 0\n",
      "  0 0 0 0]\n",
      " [0 0 0 0 0 0 0 0 0 2 0 0 0 0 0 0 0 0 0 0 0 0 0 0 0 0 0 0 0 0 0 0 0 0 0 0\n",
      "  0 0 0 0]\n",
      " [0 0 0 0 0 0 0 0 0 0 1 0 0 0 0 0 0 0 0 0 0 0 0 0 0 0 0 0 0 0 0 0 0 0 0 0\n",
      "  0 0 0 0]\n",
      " [0 0 0 0 0 0 0 0 0 0 0 0 0 0 0 0 0 0 0 0 0 0 0 0 0 0 0 0 0 0 0 0 0 0 0 0\n",
      "  0 0 0 0]\n",
      " [0 0 0 0 0 0 0 0 0 0 0 0 4 0 0 0 0 0 0 0 0 0 0 0 0 0 0 0 0 0 0 0 0 0 0 0\n",
      "  0 0 0 0]\n",
      " [0 0 0 0 0 0 0 0 0 0 0 0 0 4 0 0 0 0 0 0 0 0 0 0 0 0 0 0 0 0 0 0 0 0 0 0\n",
      "  0 0 0 0]\n",
      " [0 0 0 0 0 0 0 0 0 0 0 0 0 0 1 0 0 0 0 0 0 0 0 0 0 0 0 0 0 0 0 0 0 0 0 0\n",
      "  0 0 0 0]\n",
      " [0 0 0 0 0 0 0 0 0 0 0 0 0 0 0 1 0 0 0 0 0 0 0 0 0 0 0 0 0 0 0 0 0 0 0 0\n",
      "  0 0 0 0]\n",
      " [0 0 0 0 0 0 0 0 0 0 0 0 0 0 0 0 3 0 0 0 0 0 0 0 0 0 0 0 0 0 0 0 0 0 0 0\n",
      "  0 0 0 0]\n",
      " [0 0 0 0 0 0 0 0 0 0 0 0 0 0 0 0 0 2 0 0 0 0 0 0 0 0 0 0 0 0 0 0 0 0 0 0\n",
      "  0 0 0 0]\n",
      " [0 0 0 0 0 0 0 0 0 0 0 0 0 0 0 0 0 0 2 0 0 0 0 0 0 0 0 0 0 0 0 0 0 0 0 0\n",
      "  0 0 0 0]\n",
      " [0 0 0 0 0 0 0 0 0 0 0 0 0 0 0 0 0 0 0 2 0 0 0 0 0 0 0 0 0 0 0 0 0 0 0 0\n",
      "  0 0 0 0]\n",
      " [0 0 0 0 0 0 0 0 0 0 0 0 0 0 0 0 0 0 0 0 1 0 0 0 0 0 0 0 0 0 0 0 0 0 0 0\n",
      "  0 0 0 0]\n",
      " [0 0 0 0 0 0 0 0 0 0 0 0 0 0 0 0 0 0 0 0 0 2 0 0 0 0 0 0 0 0 0 0 0 0 0 0\n",
      "  0 0 0 0]\n",
      " [0 0 0 0 0 0 0 0 0 0 0 0 0 0 0 0 0 0 0 0 0 0 3 0 0 0 0 0 0 0 0 0 0 0 0 0\n",
      "  0 0 0 0]\n",
      " [0 0 0 0 0 0 0 0 0 0 0 0 0 0 0 0 0 0 0 0 0 0 0 2 0 0 0 0 0 0 0 0 0 0 0 0\n",
      "  0 0 0 0]\n",
      " [0 0 0 0 0 0 0 0 0 0 0 0 0 0 0 0 0 0 0 0 0 0 0 0 3 0 0 0 0 0 0 0 0 0 0 0\n",
      "  0 0 0 0]\n",
      " [0 0 0 0 0 0 0 0 0 0 0 0 0 0 0 0 0 0 0 0 0 0 1 0 0 2 0 0 0 0 0 0 0 0 0 0\n",
      "  0 0 0 0]\n",
      " [0 0 0 0 0 0 0 0 0 0 0 0 0 0 0 0 0 0 0 0 0 0 0 0 0 0 2 0 0 0 0 0 0 0 0 0\n",
      "  0 0 0 0]\n",
      " [0 0 0 0 0 0 0 0 0 0 0 0 0 0 0 0 0 0 0 0 0 0 0 0 0 0 0 2 0 0 0 0 0 0 0 0\n",
      "  0 0 0 0]\n",
      " [0 0 0 0 0 0 0 0 0 0 0 0 0 0 0 0 0 0 0 0 0 0 0 0 0 0 0 0 0 0 0 0 0 0 0 0\n",
      "  0 0 0 0]\n",
      " [0 0 0 0 0 0 0 0 0 0 0 0 0 0 0 0 0 0 0 0 0 0 0 0 0 0 0 0 0 2 0 0 0 0 0 0\n",
      "  0 0 0 0]\n",
      " [0 0 0 0 0 0 0 0 0 0 0 0 0 0 0 0 0 0 0 0 0 0 0 0 0 0 0 0 0 0 2 0 0 0 0 0\n",
      "  0 0 0 0]\n",
      " [0 0 0 0 0 0 0 0 0 0 0 0 0 0 0 0 0 0 0 0 0 0 0 0 0 0 0 0 0 0 0 3 0 0 0 0\n",
      "  0 0 0 0]\n",
      " [0 0 0 0 0 0 0 0 0 0 0 0 0 0 0 0 0 0 0 0 0 0 0 0 0 0 0 0 0 0 0 0 2 0 0 0\n",
      "  0 0 0 0]\n",
      " [0 0 0 0 0 0 0 0 0 0 0 0 0 0 0 0 0 0 0 0 0 0 0 0 0 0 0 0 0 0 0 0 0 2 0 0\n",
      "  0 0 0 0]\n",
      " [0 0 0 0 0 0 0 0 0 0 0 0 0 0 0 0 0 0 0 0 0 0 0 0 0 0 0 0 0 0 0 0 0 0 0 0\n",
      "  0 0 0 0]\n",
      " [0 0 0 0 0 0 0 0 0 0 0 0 0 0 0 0 0 0 0 0 0 0 0 0 0 0 0 0 0 0 0 0 0 0 0 2\n",
      "  0 0 0 0]\n",
      " [0 0 0 0 0 0 0 0 0 0 0 0 0 0 0 0 0 0 0 0 0 0 0 0 0 0 0 0 0 0 0 0 0 0 0 0\n",
      "  3 0 0 0]\n",
      " [0 0 0 0 0 0 0 0 0 0 0 0 0 0 0 0 0 0 0 0 0 0 0 0 0 0 0 0 0 0 0 0 0 0 0 0\n",
      "  0 1 0 0]\n",
      " [0 0 0 0 0 0 0 0 0 0 0 0 0 0 0 0 0 0 0 0 0 0 0 0 0 0 0 0 0 0 0 0 0 0 0 0\n",
      "  0 0 2 0]\n",
      " [0 0 0 0 0 0 0 0 0 0 0 0 0 0 0 0 0 0 0 0 0 0 0 0 0 0 0 0 0 0 0 0 0 0 0 0\n",
      "  0 0 0 2]]\n"
     ]
    }
   ],
   "source": [
    "start = time.perf_counter()\n",
    "print(\"Predict test dataset ...\")\n",
    "y_pred = clf.best_estimator_.predict(X_test_pca)\n",
    "cm = confusion_matrix(Y_test,y_pred,labels = range(n_targets))\n",
    "print(\"Done in {0:.2f}.\\n\".format(time.perf_counter()-start))\n",
    "print(\"confusion matrix:\")\n",
    "np.set_printoptions(threshold=np.nan)\n",
    "print(cm)"
   ]
  },
  {
   "cell_type": "code",
   "execution_count": 74,
   "metadata": {},
   "outputs": [
    {
     "name": "stdout",
     "output_type": "stream",
     "text": [
      "             precision    recall  f1-score   support\n",
      "\n",
      "         c0       0.50      1.00      0.67         1\n",
      "         c1       1.00      0.67      0.80         3\n",
      "         c2       1.00      0.50      0.67         2\n",
      "         c3       1.00      1.00      1.00         1\n",
      "         c4       1.00      1.00      1.00         1\n",
      "         c5       1.00      1.00      1.00         1\n",
      "         c6       1.00      0.75      0.86         4\n",
      "         c7       1.00      1.00      1.00         2\n",
      "         c8       1.00      1.00      1.00         4\n",
      "         c9       1.00      1.00      1.00         2\n",
      "        c10       1.00      1.00      1.00         1\n",
      "        c11       1.00      1.00      1.00         4\n",
      "        c12       1.00      1.00      1.00         4\n",
      "        c13       1.00      1.00      1.00         1\n",
      "        c14       1.00      1.00      1.00         1\n",
      "        c15       0.75      1.00      0.86         3\n",
      "        c16       1.00      1.00      1.00         2\n",
      "        c17       1.00      1.00      1.00         2\n",
      "        c18       1.00      1.00      1.00         2\n",
      "        c19       1.00      1.00      1.00         1\n",
      "        c20       1.00      1.00      1.00         2\n",
      "        c21       0.75      1.00      0.86         3\n",
      "        c22       1.00      1.00      1.00         2\n",
      "        c23       1.00      1.00      1.00         3\n",
      "        c24       0.67      0.67      0.67         3\n",
      "        c25       1.00      1.00      1.00         2\n",
      "        c26       1.00      1.00      1.00         2\n",
      "        c27       1.00      1.00      1.00         2\n",
      "        c28       1.00      1.00      1.00         2\n",
      "        c29       1.00      1.00      1.00         3\n",
      "        c30       1.00      1.00      1.00         2\n",
      "        c31       1.00      1.00      1.00         2\n",
      "        c32       1.00      1.00      1.00         2\n",
      "        c33       1.00      1.00      1.00         3\n",
      "        c34       1.00      1.00      1.00         1\n",
      "        c35       1.00      1.00      1.00         2\n",
      "        c36       1.00      1.00      1.00         2\n",
      "\n",
      "avg / total       0.96      0.95      0.95        80\n",
      "\n"
     ]
    },
    {
     "name": "stderr",
     "output_type": "stream",
     "text": [
      "D:\\ProgramData\\Anaconda3\\lib\\site-packages\\sklearn\\metrics\\classification.py:1428: UserWarning: labels size, 37, does not match size of target_names, 40\n",
      "  .format(len(labels), len(target_names))\n"
     ]
    }
   ],
   "source": [
    "print(classification_report(Y_test,y_pred,target_names=target_names))"
   ]
  }
 ],
 "metadata": {
  "kernelspec": {
   "display_name": "Python 3",
   "language": "python",
   "name": "python3"
  },
  "language_info": {
   "codemirror_mode": {
    "name": "ipython",
    "version": 3
   },
   "file_extension": ".py",
   "mimetype": "text/x-python",
   "name": "python",
   "nbconvert_exporter": "python",
   "pygments_lexer": "ipython3",
   "version": "3.7.0"
  }
 },
 "nbformat": 4,
 "nbformat_minor": 2
}
